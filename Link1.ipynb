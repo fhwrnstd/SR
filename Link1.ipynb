{
  "nbformat": 4,
  "nbformat_minor": 0,
  "metadata": {
    "colab": {
      "provenance": [],
      "authorship_tag": "ABX9TyM/OSsyuvScP3PLnytCez8F",
      "include_colab_link": true
    },
    "kernelspec": {
      "name": "python3",
      "display_name": "Python 3"
    },
    "language_info": {
      "name": "python"
    }
  },
  "cells": [
    {
      "cell_type": "markdown",
      "metadata": {
        "id": "view-in-github",
        "colab_type": "text"
      },
      "source": [
        "<a href=\"https://colab.research.google.com/github/fhwrnstd/SR/blob/main/Link1.ipynb\" target=\"_parent\"><img src=\"https://colab.research.google.com/assets/colab-badge.svg\" alt=\"Open In Colab\"/></a>"
      ]
    },
    {
      "cell_type": "code",
      "execution_count": 4,
      "metadata": {
        "id": "WtdcCpmXPgwO"
      },
      "outputs": [],
      "source": [
        "from google.colab import files\n",
        "from google.colab import drive\n",
        "import pandas as pd\n",
        "import requests\n",
        "from io import StringIO"
      ]
    },
    {
      "cell_type": "code",
      "source": [
        "url = 'https://data.statistik.gv.at/data/OGD_krankenbewegungen_ex_ENTLASSUNGEN_KA_2_HEADER.csv'\n",
        "df = pd.read_csv(url, sep=';')"
      ],
      "metadata": {
        "id": "Hn50sNWNPjL4"
      },
      "execution_count": 3,
      "outputs": []
    }
  ]
}